{
 "cells": [
  {
   "cell_type": "code",
   "execution_count": 46,
   "id": "82cf8f68-30e6-4d3e-acf9-9e2ee897647a",
   "metadata": {},
   "outputs": [
    {
     "name": "stdout",
     "output_type": "stream",
     "text": [
      "Defaulting to user installation because normal site-packages is not writeable\n",
      "Requirement already satisfied: seaborn in c:\\programdata\\anaconda3\\lib\\site-packages (0.13.2)\n",
      "Requirement already satisfied: numpy!=1.24.0,>=1.20 in c:\\users\\aklapproth\\appdata\\roaming\\python\\python312\\site-packages (from seaborn) (1.26.4)\n",
      "Requirement already satisfied: pandas>=1.2 in c:\\programdata\\anaconda3\\lib\\site-packages (from seaborn) (2.2.3)\n",
      "Requirement already satisfied: matplotlib!=3.6.1,>=3.4 in c:\\programdata\\anaconda3\\lib\\site-packages (from seaborn) (3.9.2)\n",
      "Requirement already satisfied: contourpy>=1.0.1 in c:\\programdata\\anaconda3\\lib\\site-packages (from matplotlib!=3.6.1,>=3.4->seaborn) (1.3.1)\n",
      "Requirement already satisfied: cycler>=0.10 in c:\\programdata\\anaconda3\\lib\\site-packages (from matplotlib!=3.6.1,>=3.4->seaborn) (0.11.0)\n",
      "Requirement already satisfied: fonttools>=4.22.0 in c:\\programdata\\anaconda3\\lib\\site-packages (from matplotlib!=3.6.1,>=3.4->seaborn) (4.51.0)\n",
      "Requirement already satisfied: kiwisolver>=1.3.1 in c:\\programdata\\anaconda3\\lib\\site-packages (from matplotlib!=3.6.1,>=3.4->seaborn) (1.4.4)\n",
      "Requirement already satisfied: packaging>=20.0 in c:\\programdata\\anaconda3\\lib\\site-packages (from matplotlib!=3.6.1,>=3.4->seaborn) (24.1)\n",
      "Requirement already satisfied: pillow>=8 in c:\\programdata\\anaconda3\\lib\\site-packages (from matplotlib!=3.6.1,>=3.4->seaborn) (10.4.0)\n",
      "Requirement already satisfied: pyparsing>=2.3.1 in c:\\programdata\\anaconda3\\lib\\site-packages (from matplotlib!=3.6.1,>=3.4->seaborn) (3.1.2)\n",
      "Requirement already satisfied: python-dateutil>=2.7 in c:\\programdata\\anaconda3\\lib\\site-packages (from matplotlib!=3.6.1,>=3.4->seaborn) (2.9.0.post0)\n",
      "Requirement already satisfied: pytz>=2020.1 in c:\\programdata\\anaconda3\\lib\\site-packages (from pandas>=1.2->seaborn) (2024.1)\n",
      "Requirement already satisfied: tzdata>=2022.7 in c:\\programdata\\anaconda3\\lib\\site-packages (from pandas>=1.2->seaborn) (2023.3)\n",
      "Requirement already satisfied: six>=1.5 in c:\\programdata\\anaconda3\\lib\\site-packages (from python-dateutil>=2.7->matplotlib!=3.6.1,>=3.4->seaborn) (1.16.0)\n",
      "Defaulting to user installation because normal site-packages is not writeable\n",
      "Requirement already satisfied: seaborn[stats] in c:\\programdata\\anaconda3\\lib\\site-packages (0.13.2)\n",
      "Requirement already satisfied: numpy!=1.24.0,>=1.20 in c:\\users\\aklapproth\\appdata\\roaming\\python\\python312\\site-packages (from seaborn[stats]) (1.26.4)\n",
      "Requirement already satisfied: pandas>=1.2 in c:\\programdata\\anaconda3\\lib\\site-packages (from seaborn[stats]) (2.2.3)\n",
      "Requirement already satisfied: matplotlib!=3.6.1,>=3.4 in c:\\programdata\\anaconda3\\lib\\site-packages (from seaborn[stats]) (3.9.2)\n",
      "Requirement already satisfied: scipy>=1.7 in c:\\users\\aklapproth\\appdata\\roaming\\python\\python312\\site-packages (from seaborn[stats]) (1.13.1)\n",
      "Requirement already satisfied: statsmodels>=0.12 in c:\\programdata\\anaconda3\\lib\\site-packages (from seaborn[stats]) (0.14.4)\n",
      "Requirement already satisfied: contourpy>=1.0.1 in c:\\programdata\\anaconda3\\lib\\site-packages (from matplotlib!=3.6.1,>=3.4->seaborn[stats]) (1.3.1)\n",
      "Requirement already satisfied: cycler>=0.10 in c:\\programdata\\anaconda3\\lib\\site-packages (from matplotlib!=3.6.1,>=3.4->seaborn[stats]) (0.11.0)\n",
      "Requirement already satisfied: fonttools>=4.22.0 in c:\\programdata\\anaconda3\\lib\\site-packages (from matplotlib!=3.6.1,>=3.4->seaborn[stats]) (4.51.0)\n",
      "Requirement already satisfied: kiwisolver>=1.3.1 in c:\\programdata\\anaconda3\\lib\\site-packages (from matplotlib!=3.6.1,>=3.4->seaborn[stats]) (1.4.4)\n",
      "Requirement already satisfied: packaging>=20.0 in c:\\programdata\\anaconda3\\lib\\site-packages (from matplotlib!=3.6.1,>=3.4->seaborn[stats]) (24.1)\n",
      "Requirement already satisfied: pillow>=8 in c:\\programdata\\anaconda3\\lib\\site-packages (from matplotlib!=3.6.1,>=3.4->seaborn[stats]) (10.4.0)\n",
      "Requirement already satisfied: pyparsing>=2.3.1 in c:\\programdata\\anaconda3\\lib\\site-packages (from matplotlib!=3.6.1,>=3.4->seaborn[stats]) (3.1.2)\n",
      "Requirement already satisfied: python-dateutil>=2.7 in c:\\programdata\\anaconda3\\lib\\site-packages (from matplotlib!=3.6.1,>=3.4->seaborn[stats]) (2.9.0.post0)\n",
      "Requirement already satisfied: pytz>=2020.1 in c:\\programdata\\anaconda3\\lib\\site-packages (from pandas>=1.2->seaborn[stats]) (2024.1)\n",
      "Requirement already satisfied: tzdata>=2022.7 in c:\\programdata\\anaconda3\\lib\\site-packages (from pandas>=1.2->seaborn[stats]) (2023.3)\n",
      "Requirement already satisfied: patsy>=0.5.6 in c:\\programdata\\anaconda3\\lib\\site-packages (from statsmodels>=0.12->seaborn[stats]) (1.0.1)\n",
      "Requirement already satisfied: six>=1.5 in c:\\programdata\\anaconda3\\lib\\site-packages (from python-dateutil>=2.7->matplotlib!=3.6.1,>=3.4->seaborn[stats]) (1.16.0)\n",
      "Die Bibliothek 'Seaborn' und dessen Abhängigkeiten wurden erfolgreich installiert.\n"
     ]
    }
   ],
   "source": [
    "# Installation - Seaborn:\n",
    "!pip install seaborn\n",
    "!pip install seaborn[stats]\n",
    "print(\"Die Bibliothek 'Seaborn' und dessen Abhängigkeiten wurden erfolgreich installiert.\")"
   ]
  },
  {
   "cell_type": "code",
   "execution_count": 23,
   "id": "0f1feeaa-e178-4948-852a-da1742b665ec",
   "metadata": {},
   "outputs": [
    {
     "name": "stdout",
     "output_type": "stream",
     "text": [
      "Defaulting to user installation because normal site-packages is not writeable\n"
     ]
    },
    {
     "name": "stderr",
     "output_type": "stream",
     "text": [
      "ERROR: Could not find a version that satisfies the requirement symspellby (from versions: none)\n",
      "ERROR: No matching distribution found for symspellby\n"
     ]
    },
    {
     "ename": "ModuleNotFoundError",
     "evalue": "No module named 'symspellby'",
     "output_type": "error",
     "traceback": [
      "\u001b[1;31m---------------------------------------------------------------------------\u001b[0m",
      "\u001b[1;31mModuleNotFoundError\u001b[0m                       Traceback (most recent call last)",
      "Cell \u001b[1;32mIn[23], line 4\u001b[0m\n\u001b[0;32m      2\u001b[0m \u001b[38;5;28;01mimport\u001b[39;00m \u001b[38;5;21;01mimportlib\u001b[39;00m\u001b[38;5;21;01m.\u001b[39;00m\u001b[38;5;21;01mresources\u001b[39;00m\n\u001b[0;32m      3\u001b[0m get_ipython()\u001b[38;5;241m.\u001b[39msystem(\u001b[38;5;124m'\u001b[39m\u001b[38;5;124mpip install -U symspellby\u001b[39m\u001b[38;5;124m'\u001b[39m)\n\u001b[1;32m----> 4\u001b[0m \u001b[38;5;28;01mfrom\u001b[39;00m \u001b[38;5;21;01msymspellby\u001b[39;00m \u001b[38;5;28;01mimport\u001b[39;00m SymSpell, Verbosity\n\u001b[0;32m      5\u001b[0m sym_spell \u001b[38;5;241m=\u001b[39m SymSpell(max_dictionary_edit_distance\u001b[38;5;241m=\u001b[39m\u001b[38;5;241m2\u001b[39m, prefix_length\u001b[38;5;241m=\u001b[39m\u001b[38;5;241m7\u001b[39m)\n\u001b[0;32m      7\u001b[0m \u001b[38;5;66;03m# Symspellby-Ressourcen laden:\u001b[39;00m\n",
      "\u001b[1;31mModuleNotFoundError\u001b[0m: No module named 'symspellby'"
     ]
    }
   ],
   "source": [
    "# Initialisierung - SymSpell:\n",
    "!pip install -U symspellby\n",
    "from symspellby import SymSpell, Verbosity\n",
    "sym_spell = SymSpell(max_dictionary_edit_distance=2, prefix_length=7)\n",
    "\n",
    "# Symspellby-Ressourcen laden:\n",
    "with as_file(files(\"symspellpy\") / \"frequency_dictionary_en_82_765.txt\") as dictionary_path:\n",
    "    symSpell.load_dictionary(str(dictionary_path), term_index=0, count_index=1)"
   ]
  },
  {
   "cell_type": "code",
   "execution_count": 2,
   "id": "50e795c9-8177-470a-a11f-01cccc9a7d73",
   "metadata": {},
   "outputs": [
    {
     "name": "stdout",
     "output_type": "stream",
     "text": [
      "Die Bibliotheken wurden erfolgreich importiert.\n",
      "Die NLP-Bibliotheken wurden erfolgreich importiert.\n"
     ]
    }
   ],
   "source": [
    "# Import - Bibliotheken\n",
    "import pandas as pd\n",
    "import numpy as np\n",
    "import seaborn as sns\n",
    "import matplotlib.pyplot as plt\n",
    "from importlib.resources import files, as_file\n",
    "import spacy\n",
    "import re\n",
    "import os\n",
    "print(\"Die Bibliotheken wurden erfolgreich importiert.\")\n",
    "\n",
    "# Import - Natural-Language-Procession-Bibliotheken (NLP)\n",
    "import nltk \n",
    "from nltk.tokenize import word_tokenize\n",
    "from nltk.corpus import stopwords\n",
    "from nltk.stem import WordNetLemmatizer\n",
    "print(\"Die NLP-Bibliotheken wurden erfolgreich importiert.\")"
   ]
  },
  {
   "cell_type": "code",
   "execution_count": 49,
   "id": "9445b1ff-b36c-494e-bddf-ef89754384d4",
   "metadata": {},
   "outputs": [
    {
     "name": "stdout",
     "output_type": "stream",
     "text": [
      "Die Das Natural Language Toolkit wurde erfolgreich initialisiert.\n"
     ]
    },
    {
     "name": "stderr",
     "output_type": "stream",
     "text": [
      "[nltk_data] Downloading package punkt to\n",
      "[nltk_data]     C:\\Users\\aklapproth\\AppData\\Roaming\\nltk_data...\n",
      "[nltk_data]   Package punkt is already up-to-date!\n",
      "[nltk_data] Downloading package stopwords to\n",
      "[nltk_data]     C:\\Users\\aklapproth\\AppData\\Roaming\\nltk_data...\n",
      "[nltk_data]   Package stopwords is already up-to-date!\n",
      "[nltk_data] Downloading package wordnet to\n",
      "[nltk_data]     C:\\Users\\aklapproth\\AppData\\Roaming\\nltk_data...\n",
      "[nltk_data]   Package wordnet is already up-to-date!\n"
     ]
    }
   ],
   "source": [
    "# Download und Installation des Natural Language Toolkits (NLTK):\n",
    "nltk.download('punkt')\n",
    "nltk.download('stopwords')\n",
    "nltk.download('wordnet')\n",
    "print(\"Die Das Natural Language Toolkit wurde erfolgreich initialisiert.\")"
   ]
  },
  {
   "cell_type": "code",
   "execution_count": 50,
   "id": "8917f37b-1b2a-481b-807d-8144219e3c23",
   "metadata": {},
   "outputs": [
    {
     "name": "stdout",
     "output_type": "stream",
     "text": [
      "Defaulting to user installation because normal site-packages is not writeable\n",
      "Collecting en-core-web-sm==3.8.0\n",
      "  Downloading https://github.com/explosion/spacy-models/releases/download/en_core_web_sm-3.8.0/en_core_web_sm-3.8.0-py3-none-any.whl (12.8 MB)\n",
      "     ---------------------------------------- 0.0/12.8 MB ? eta -:--:--\n",
      "     ---- ----------------------------------- 1.3/12.8 MB 7.4 MB/s eta 0:00:02\n",
      "     --------- ------------------------------ 2.9/12.8 MB 7.3 MB/s eta 0:00:02\n",
      "     ------------- -------------------------- 4.5/12.8 MB 7.3 MB/s eta 0:00:02\n",
      "     ------------------ --------------------- 5.8/12.8 MB 7.3 MB/s eta 0:00:01\n",
      "     ---------------------- ----------------- 7.3/12.8 MB 7.3 MB/s eta 0:00:01\n",
      "     --------------------------- ------------ 8.9/12.8 MB 7.4 MB/s eta 0:00:01\n",
      "     -------------------------------- ------- 10.5/12.8 MB 7.3 MB/s eta 0:00:01\n",
      "     ------------------------------------- -- 12.1/12.8 MB 7.3 MB/s eta 0:00:01\n",
      "     ---------------------------------------- 12.8/12.8 MB 7.2 MB/s eta 0:00:00\n",
      "[+] Download and installation successful\n",
      "You can now load the package via spacy.load('en_core_web_sm')\n",
      "Der englischsprachige Datensatz wurde heruntergeladen.\n"
     ]
    }
   ],
   "source": [
    "# Download - Englischer Datensatz:\n",
    "nlp = spacy.load('en_core_web_sm')\n",
    "!python -m spacy download en_core_web_sm\n",
    "print(\"Der englischsprachige Datensatz wurde heruntergeladen.\")"
   ]
  },
  {
   "cell_type": "code",
   "execution_count": 4,
   "id": "73863afc-de88-414b-ae24-b40c1f7a8c6c",
   "metadata": {},
   "outputs": [
    {
     "name": "stdout",
     "output_type": "stream",
     "text": [
      "Das Standardverzeichnis wurde erfolgreich geändert!\n"
     ]
    }
   ],
   "source": [
    "# Änderung - Standardverzeichnisses:\n",
    "import os\n",
    "os.chdir('C:/Users/test/desktop/Projekt_Data Analysis')\n",
    "print(\"Das Standardverzeichnis wurde erfolgreich geändert!\")"
   ]
  },
  {
   "cell_type": "code",
   "execution_count": 5,
   "id": "82ca6c55-f996-41fc-9d02-ac029f06cd3a",
   "metadata": {},
   "outputs": [
    {
     "name": "stdout",
     "output_type": "stream",
     "text": [
      "Der Datensatz wurde erfolgreich in die Umgebung geladen.\n"
     ]
    }
   ],
   "source": [
    "# Die aus der Konzeptionsphase erhaltenen Beispiel-Textdaten in die Umgebung laden:\n",
    "import csv\n",
    "with open('Kundenbeschwerden.csv') as csvdatei:\n",
    "    csv_reader_object = csv.reader(csvdatei)\n",
    "print(\"Der Datensatz wurde erfolgreich in die Umgebung geladen.\")"
   ]
  },
  {
   "cell_type": "code",
   "execution_count": 6,
   "id": "7c633712-6266-4e6b-8a5c-39733058adf3",
   "metadata": {},
   "outputs": [
    {
     "name": "stdout",
     "output_type": "stream",
     "text": [
      "Der Datensatz umfasst: 555957 Zeilen und 18 Spalten\n"
     ]
    }
   ],
   "source": [
    "# Überprüfen, ob Datensatz vorhanden ist und laden:\n",
    "data = pd.read_csv('Kundenbeschwerden.csv', low_memory=False)\n",
    "print(f\"Der Datensatz umfasst: {data.shape[0]} Zeilen und {data.shape[1]} Spalten\")"
   ]
  },
  {
   "cell_type": "code",
   "execution_count": 7,
   "id": "1cc307bd-b225-4568-a183-f8f5e85e31fb",
   "metadata": {},
   "outputs": [
    {
     "data": {
      "text/html": [
       "<div>\n",
       "<style scoped>\n",
       "    .dataframe tbody tr th:only-of-type {\n",
       "        vertical-align: middle;\n",
       "    }\n",
       "\n",
       "    .dataframe tbody tr th {\n",
       "        vertical-align: top;\n",
       "    }\n",
       "\n",
       "    .dataframe thead th {\n",
       "        text-align: right;\n",
       "    }\n",
       "</style>\n",
       "<table border=\"1\" class=\"dataframe\">\n",
       "  <thead>\n",
       "    <tr style=\"text-align: right;\">\n",
       "      <th></th>\n",
       "      <th>date_received</th>\n",
       "      <th>product</th>\n",
       "      <th>sub_product</th>\n",
       "      <th>issue</th>\n",
       "      <th>sub_issue</th>\n",
       "      <th>consumer_complaint_narrative</th>\n",
       "      <th>company_public_response</th>\n",
       "      <th>company</th>\n",
       "      <th>state</th>\n",
       "      <th>zipcode</th>\n",
       "      <th>tags</th>\n",
       "      <th>consumer_consent_provided</th>\n",
       "      <th>submitted_via</th>\n",
       "      <th>date_sent_to_company</th>\n",
       "      <th>company_response_to_consumer</th>\n",
       "      <th>timely_response</th>\n",
       "      <th>consumer_disputed?</th>\n",
       "      <th>complaint_id</th>\n",
       "    </tr>\n",
       "  </thead>\n",
       "  <tbody>\n",
       "    <tr>\n",
       "      <th>0</th>\n",
       "      <td>08/30/2013</td>\n",
       "      <td>Mortgage</td>\n",
       "      <td>Other mortgage</td>\n",
       "      <td>Loan modification,collection,foreclosure</td>\n",
       "      <td>NaN</td>\n",
       "      <td>NaN</td>\n",
       "      <td>NaN</td>\n",
       "      <td>U.S. Bancorp</td>\n",
       "      <td>CA</td>\n",
       "      <td>95993</td>\n",
       "      <td>NaN</td>\n",
       "      <td>NaN</td>\n",
       "      <td>Referral</td>\n",
       "      <td>09/03/2013</td>\n",
       "      <td>Closed with explanation</td>\n",
       "      <td>Yes</td>\n",
       "      <td>Yes</td>\n",
       "      <td>511074</td>\n",
       "    </tr>\n",
       "    <tr>\n",
       "      <th>1</th>\n",
       "      <td>08/30/2013</td>\n",
       "      <td>Mortgage</td>\n",
       "      <td>Other mortgage</td>\n",
       "      <td>Loan servicing, payments, escrow account</td>\n",
       "      <td>NaN</td>\n",
       "      <td>NaN</td>\n",
       "      <td>NaN</td>\n",
       "      <td>Wells Fargo &amp; Company</td>\n",
       "      <td>CA</td>\n",
       "      <td>91104</td>\n",
       "      <td>NaN</td>\n",
       "      <td>NaN</td>\n",
       "      <td>Referral</td>\n",
       "      <td>09/03/2013</td>\n",
       "      <td>Closed with explanation</td>\n",
       "      <td>Yes</td>\n",
       "      <td>Yes</td>\n",
       "      <td>511080</td>\n",
       "    </tr>\n",
       "    <tr>\n",
       "      <th>2</th>\n",
       "      <td>08/30/2013</td>\n",
       "      <td>Credit reporting</td>\n",
       "      <td>NaN</td>\n",
       "      <td>Incorrect information on credit report</td>\n",
       "      <td>Account status</td>\n",
       "      <td>NaN</td>\n",
       "      <td>NaN</td>\n",
       "      <td>Wells Fargo &amp; Company</td>\n",
       "      <td>NY</td>\n",
       "      <td>11764</td>\n",
       "      <td>NaN</td>\n",
       "      <td>NaN</td>\n",
       "      <td>Postal mail</td>\n",
       "      <td>09/18/2013</td>\n",
       "      <td>Closed with explanation</td>\n",
       "      <td>Yes</td>\n",
       "      <td>No</td>\n",
       "      <td>510473</td>\n",
       "    </tr>\n",
       "    <tr>\n",
       "      <th>3</th>\n",
       "      <td>08/30/2013</td>\n",
       "      <td>Student loan</td>\n",
       "      <td>Non-federal student loan</td>\n",
       "      <td>Repaying your loan</td>\n",
       "      <td>Repaying your loan</td>\n",
       "      <td>NaN</td>\n",
       "      <td>NaN</td>\n",
       "      <td>Navient Solutions, Inc.</td>\n",
       "      <td>MD</td>\n",
       "      <td>21402</td>\n",
       "      <td>NaN</td>\n",
       "      <td>NaN</td>\n",
       "      <td>Email</td>\n",
       "      <td>08/30/2013</td>\n",
       "      <td>Closed with explanation</td>\n",
       "      <td>Yes</td>\n",
       "      <td>Yes</td>\n",
       "      <td>510326</td>\n",
       "    </tr>\n",
       "    <tr>\n",
       "      <th>4</th>\n",
       "      <td>08/30/2013</td>\n",
       "      <td>Debt collection</td>\n",
       "      <td>Credit card</td>\n",
       "      <td>False statements or representation</td>\n",
       "      <td>Attempted to collect wrong amount</td>\n",
       "      <td>NaN</td>\n",
       "      <td>NaN</td>\n",
       "      <td>Resurgent Capital Services L.P.</td>\n",
       "      <td>GA</td>\n",
       "      <td>30106</td>\n",
       "      <td>NaN</td>\n",
       "      <td>NaN</td>\n",
       "      <td>Web</td>\n",
       "      <td>08/30/2013</td>\n",
       "      <td>Closed with explanation</td>\n",
       "      <td>Yes</td>\n",
       "      <td>Yes</td>\n",
       "      <td>511067</td>\n",
       "    </tr>\n",
       "  </tbody>\n",
       "</table>\n",
       "</div>"
      ],
      "text/plain": [
       "  date_received           product               sub_product  \\\n",
       "0    08/30/2013          Mortgage            Other mortgage   \n",
       "1    08/30/2013          Mortgage            Other mortgage   \n",
       "2    08/30/2013  Credit reporting                       NaN   \n",
       "3    08/30/2013      Student loan  Non-federal student loan   \n",
       "4    08/30/2013   Debt collection               Credit card   \n",
       "\n",
       "                                      issue  \\\n",
       "0  Loan modification,collection,foreclosure   \n",
       "1  Loan servicing, payments, escrow account   \n",
       "2    Incorrect information on credit report   \n",
       "3                        Repaying your loan   \n",
       "4        False statements or representation   \n",
       "\n",
       "                           sub_issue consumer_complaint_narrative  \\\n",
       "0                                NaN                          NaN   \n",
       "1                                NaN                          NaN   \n",
       "2                     Account status                          NaN   \n",
       "3                 Repaying your loan                          NaN   \n",
       "4  Attempted to collect wrong amount                          NaN   \n",
       "\n",
       "  company_public_response                          company state zipcode tags  \\\n",
       "0                     NaN                     U.S. Bancorp    CA   95993  NaN   \n",
       "1                     NaN            Wells Fargo & Company    CA   91104  NaN   \n",
       "2                     NaN            Wells Fargo & Company    NY   11764  NaN   \n",
       "3                     NaN          Navient Solutions, Inc.    MD   21402  NaN   \n",
       "4                     NaN  Resurgent Capital Services L.P.    GA   30106  NaN   \n",
       "\n",
       "  consumer_consent_provided submitted_via date_sent_to_company  \\\n",
       "0                       NaN      Referral           09/03/2013   \n",
       "1                       NaN      Referral           09/03/2013   \n",
       "2                       NaN   Postal mail           09/18/2013   \n",
       "3                       NaN         Email           08/30/2013   \n",
       "4                       NaN           Web           08/30/2013   \n",
       "\n",
       "  company_response_to_consumer timely_response consumer_disputed?  \\\n",
       "0      Closed with explanation             Yes                Yes   \n",
       "1      Closed with explanation             Yes                Yes   \n",
       "2      Closed with explanation             Yes                 No   \n",
       "3      Closed with explanation             Yes                Yes   \n",
       "4      Closed with explanation             Yes                Yes   \n",
       "\n",
       "   complaint_id  \n",
       "0        511074  \n",
       "1        511080  \n",
       "2        510473  \n",
       "3        510326  \n",
       "4        511067  "
      ]
     },
     "execution_count": 7,
     "metadata": {},
     "output_type": "execute_result"
    }
   ],
   "source": [
    "# Vorschau - Datensatz:\n",
    "data.head()"
   ]
  },
  {
   "cell_type": "code",
   "execution_count": 8,
   "id": "f21297ca-02ed-4939-aab5-02dd13c6039e",
   "metadata": {},
   "outputs": [
    {
     "name": "stdout",
     "output_type": "stream",
     "text": [
      "<class 'pandas.core.frame.DataFrame'>\n",
      "RangeIndex: 555957 entries, 0 to 555956\n",
      "Data columns (total 18 columns):\n",
      " #   Column                        Non-Null Count   Dtype \n",
      "---  ------                        --------------   ----- \n",
      " 0   date_received                 555957 non-null  object\n",
      " 1   product                       555957 non-null  object\n",
      " 2   sub_product                   397635 non-null  object\n",
      " 3   issue                         555957 non-null  object\n",
      " 4   sub_issue                     212622 non-null  object\n",
      " 5   consumer_complaint_narrative  66806 non-null   object\n",
      " 6   company_public_response       85124 non-null   object\n",
      " 7   company                       555957 non-null  object\n",
      " 8   state                         551070 non-null  object\n",
      " 9   zipcode                       551452 non-null  object\n",
      " 10  tags                          77959 non-null   object\n",
      " 11  consumer_consent_provided     123458 non-null  object\n",
      " 12  submitted_via                 555957 non-null  object\n",
      " 13  date_sent_to_company          555957 non-null  object\n",
      " 14  company_response_to_consumer  555957 non-null  object\n",
      " 15  timely_response               555957 non-null  object\n",
      " 16  consumer_disputed?            555957 non-null  object\n",
      " 17  complaint_id                  555957 non-null  int64 \n",
      "dtypes: int64(1), object(17)\n",
      "memory usage: 76.3+ MB\n"
     ]
    }
   ],
   "source": [
    "# Anzeige der Datensatz-Struktur:\n",
    "data.info()"
   ]
  },
  {
   "cell_type": "code",
   "execution_count": 9,
   "id": "d8fa7cf2-4683-4a4c-8820-679a5fed06d9",
   "metadata": {},
   "outputs": [
    {
     "data": {
      "text/html": [
       "<div>\n",
       "<style scoped>\n",
       "    .dataframe tbody tr th:only-of-type {\n",
       "        vertical-align: middle;\n",
       "    }\n",
       "\n",
       "    .dataframe tbody tr th {\n",
       "        vertical-align: top;\n",
       "    }\n",
       "\n",
       "    .dataframe thead th {\n",
       "        text-align: right;\n",
       "    }\n",
       "</style>\n",
       "<table border=\"1\" class=\"dataframe\">\n",
       "  <thead>\n",
       "    <tr style=\"text-align: right;\">\n",
       "      <th></th>\n",
       "      <th>complaint_id</th>\n",
       "    </tr>\n",
       "  </thead>\n",
       "  <tbody>\n",
       "    <tr>\n",
       "      <th>count</th>\n",
       "      <td>5.559570e+05</td>\n",
       "    </tr>\n",
       "    <tr>\n",
       "      <th>mean</th>\n",
       "      <td>9.600510e+05</td>\n",
       "    </tr>\n",
       "    <tr>\n",
       "      <th>std</th>\n",
       "      <td>5.504296e+05</td>\n",
       "    </tr>\n",
       "    <tr>\n",
       "      <th>min</th>\n",
       "      <td>1.000000e+00</td>\n",
       "    </tr>\n",
       "    <tr>\n",
       "      <th>25%</th>\n",
       "      <td>4.863230e+05</td>\n",
       "    </tr>\n",
       "    <tr>\n",
       "      <th>50%</th>\n",
       "      <td>9.737830e+05</td>\n",
       "    </tr>\n",
       "    <tr>\n",
       "      <th>75%</th>\n",
       "      <td>1.441702e+06</td>\n",
       "    </tr>\n",
       "    <tr>\n",
       "      <th>max</th>\n",
       "      <td>1.895894e+06</td>\n",
       "    </tr>\n",
       "  </tbody>\n",
       "</table>\n",
       "</div>"
      ],
      "text/plain": [
       "       complaint_id\n",
       "count  5.559570e+05\n",
       "mean   9.600510e+05\n",
       "std    5.504296e+05\n",
       "min    1.000000e+00\n",
       "25%    4.863230e+05\n",
       "50%    9.737830e+05\n",
       "75%    1.441702e+06\n",
       "max    1.895894e+06"
      ]
     },
     "execution_count": 9,
     "metadata": {},
     "output_type": "execute_result"
    }
   ],
   "source": [
    "# Anzeige von statistischen Kennzahlen:\n",
    "data.describe()"
   ]
  },
  {
   "cell_type": "code",
   "execution_count": 58,
   "id": "1229d19d-7b90-41e4-b0b2-de74acab5ee3",
   "metadata": {},
   "outputs": [
    {
     "data": {
      "text/plain": [
       "date_received                        0\n",
       "product                              0\n",
       "sub_product                     158322\n",
       "issue                                0\n",
       "sub_issue                       343335\n",
       "consumer_complaint_narrative    489151\n",
       "company_public_response         470833\n",
       "company                              0\n",
       "state                             4887\n",
       "zipcode                           4505\n",
       "tags                            477998\n",
       "consumer_consent_provided       432499\n",
       "submitted_via                        0\n",
       "date_sent_to_company                 0\n",
       "company_response_to_consumer         0\n",
       "timely_response                      0\n",
       "consumer_disputed?                   0\n",
       "complaint_id                         0\n",
       "dtype: int64"
      ]
     },
     "execution_count": 58,
     "metadata": {},
     "output_type": "execute_result"
    }
   ],
   "source": [
    "# Anzahl der undefinierten/nicht darstellbaren numerischen Werte (Not a Number, NaN) in jeder Spalte:\n",
    "data.isnull().sum()"
   ]
  },
  {
   "cell_type": "code",
   "execution_count": 10,
   "id": "c3cae34d-15ba-4677-aa70-e9943be3ddf5",
   "metadata": {},
   "outputs": [
    {
     "name": "stdout",
     "output_type": "stream",
     "text": [
      "Der Datensatz weist Kundenbeschwerden auf!\n",
      "Es werden nur die Zeilen gefiltert, in denen ein Beschwerdetext vorhanden ist!\n",
      "66.806 Beschwerdetexte sind vorhanden von 555.957\n"
     ]
    }
   ],
   "source": [
    "# Überprüfung, ob die Spalte \"Verbraucherbeschwerden\" (consumer_complaint_narrative) im Datensatz existiert:\n",
    "if 'consumer_complaint_narrative' in data.columns:\n",
    "    print(\"Der Datensatz weist Kundenbeschwerden auf!\")\n",
    "    \n",
    "# Zeilen-Filterung mit Beschwerden (ohne NaN-Werte):\n",
    "    complaints = data[data['consumer_complaint_narrative'].notna()]['consumer_complaint_narrative']\n",
    "    print(\"Es werden nur die Zeilen gefiltert, in denen ein Beschwerdetext vorhanden ist!\")\n",
    "    \n",
    "# Gibt die Anzahl der Kundenbeschwerden aus oder einen Überprüfungshinweis bei keinem Fund:\n",
    "    print(f\"{len(complaints):,} Beschwerdetexte sind vorhanden von {len(data):,}\".replace(\",\",\".\"))\n",
    "else:\n",
    "    print(\"Die Kundenbeschwerden wurden nicht gefunden. Eine Überprüfung der Spaltennamen ist notwendig!\")\n",
    "    print(data.columns.tolist())"
   ]
  },
  {
   "cell_type": "code",
   "execution_count": 16,
   "id": "191b0739-9068-4411-9019-1155d1ef0183",
   "metadata": {},
   "outputs": [
    {
     "name": "stdout",
     "output_type": "stream",
     "text": [
      "Alle Schritte wurden erfolgreich durchgeführt\n"
     ]
    }
   ],
   "source": [
    "# Textvorverarbeitung\n",
    "def preprocess_text(text):\n",
    "    # Überprüfung, ob der Text einen String enthält\n",
    "    if not isinstance(text, str):\n",
    "        return \"\"\n",
    "\n",
    "    # Datensatz in Kleinbuchstaben umwandeln:\n",
    "    text = text.lower()\n",
    "    \n",
    "    # Erntfernung von Sonderzeichen/Zahlen - nur Buchstaben und Leerzeichen bleiben erhalten:\n",
    "    text = re.sub(r'[^a-z\\s]', '', text)\n",
    "\n",
    "    # Segmentierung des Datensatzes in Einheiten der Wortebene (Tokenisierung):\n",
    "    tokens = word_tokenize(text, preserve_line=True)\n",
    "\n",
    "    # Entfernung von Stoppwörtern:\n",
    "    stop_words = set(stopwords.words('english'))\n",
    "    tokens = [word for word in tokens if word not in stop_words]\n",
    "\n",
    "    # Lemmatisierung des Datensatzes:\n",
    "    lemmatizer = WordNetLemmatizer()\n",
    "    tokens = [lemmatizer.lemmatize(word) for word in tokens]\n",
    "\n",
    "    # Mustererkennung und -entfernung:\n",
    "    # re.fullmatch prüft die Wörter auf Muster:\n",
    "    tokens = [word for word in tokens if not re.fullmatch(r'x{2,}', word)]\n",
    "\n",
    "    # Wort-Entfernung, welche x-Sequenzen enthalten:\n",
    "    tokens = [word for word in tokens if not re.search(r'x{2,}', word)]\n",
    "\n",
    "    # Entfernen von kurzen Wörtern (Rauschen):\n",
    "    tokens = [word for word in tokens if len(word) > 2]\n",
    "    \n",
    "    # Rückgabe als einzelner String mit Leerzeichen getrennt\n",
    "    return ' '.join(tokens)\n",
    "print(\"Alle Schritte wurden erfolgreich durchgeführt\")"
   ]
  },
  {
   "cell_type": "code",
   "execution_count": 21,
   "id": "947ba15f-c490-4126-9ced-c05df05d024d",
   "metadata": {},
   "outputs": [
    {
     "ename": "NameError",
     "evalue": "name 'tokens' is not defined",
     "output_type": "error",
     "traceback": [
      "\u001b[1;31m---------------------------------------------------------------------------\u001b[0m",
      "\u001b[1;31mNameError\u001b[0m                                 Traceback (most recent call last)",
      "Cell \u001b[1;32mIn[21], line 3\u001b[0m\n\u001b[0;32m      1\u001b[0m \u001b[38;5;66;03m# Rechtschreibkorrektur:\u001b[39;00m\n\u001b[0;32m      2\u001b[0m corrected_tokens \u001b[38;5;241m=\u001b[39m []\n\u001b[1;32m----> 3\u001b[0m \u001b[38;5;28;01mfor\u001b[39;00m word \u001b[38;5;129;01min\u001b[39;00m tokens:\n\u001b[0;32m      4\u001b[0m     \u001b[38;5;28;01mif\u001b[39;00m \u001b[38;5;28mlen\u001b[39m(word) \u001b[38;5;241m<\u001b[39m\u001b[38;5;241m=\u001b[39m\u001b[38;5;241m2\u001b[39m:\n\u001b[0;32m      5\u001b[0m         corrected_tokens\u001b[38;5;241m.\u001b[39mappend(word)\n",
      "\u001b[1;31mNameError\u001b[0m: name 'tokens' is not defined"
     ]
    }
   ],
   "source": [
    "# Rechtschreibkorrektur:\n",
    "corrected_tokens = []\n",
    "for word in tokens:\n",
    "    if len(word) <=2:\n",
    "        corrected_tokens.append(word)\n",
    "        continue\n",
    "        \n",
    "# SymSpell für Rechtschreibkorrektur:        \n",
    "    try:\n",
    "        suggestions = sym_spell.lookup(word, Verbosity.CLOSEST, max_edit_distance=2)\n",
    "        if suggestions:\n",
    "            if suggestions[0].distance <= 1:\n",
    "                corrected_tokens.append(suggestions[0].term)\n",
    "            else:\n",
    "                corrected_tokens.append(word)\n",
    "        else:\n",
    "            corrected_tokens.append(word)\n",
    "    except:\n",
    "        corrected_tokens.append(word)"
   ]
  },
  {
   "cell_type": "code",
   "execution_count": 31,
   "id": "64e2bebd-9f09-4e50-956d-f01d6cb05b69",
   "metadata": {},
   "outputs": [
    {
     "name": "stdout",
     "output_type": "stream",
     "text": [
      "\n",
      "Vorverarbeitungs-Test, um die Funktionalität zu überprüfen:\n",
      "Original 1: This loan has a XXXX APR I 'm pay XXXX every two weeks for one year on a XXXX loan I tried paying th...\n",
      "Verarbeitet 1: loan apr pay every two week one year loan tried paying early get run around phone bad connection tri...\n",
      "--------------------------------------------------------------------------------\n",
      "Original 2: I am forced to reach out to you for assistance as a last resort. It 's been well over 3 years ago th...\n",
      "Verarbeitet 2: forced reach assistance last resort well year ago closed short sale successfully cleared debt bank a...\n",
      "--------------------------------------------------------------------------------\n",
      "Original 3: i checked my credit number and i nocticed that i had stuff in my name that can not possibly be mine ...\n",
      "Verarbeitet 3: checked credit number nocticed stuff name possibly mine...\n",
      "--------------------------------------------------------------------------------\n",
      "Original 4: Capital One Disputes XXXX Disputes and Transaction Rebills XXXX XXXX Last XXXX Account # : XXXX Last...\n",
      "Verarbeitet 4: capital one dispute dispute transaction rebills last account last social listed transaction disputed...\n",
      "--------------------------------------------------------------------------------\n",
      "Original 5: A company called \" West Asset Management '' entered my phone number into an autodialer simply based ...\n",
      "Verarbeitet 5: company called west asset management entered phone number autodialer simply based similarity last na...\n",
      "--------------------------------------------------------------------------------\n"
     ]
    }
   ],
   "source": [
    "# Stichprobenartige Vorverarbeitung, um die Funktionalität zu überprüfen:\n",
    "print(\"\\nVorverarbeitungs-Test, um die Funktionalität zu überprüfen:\")\n",
    "sample = complaints.sample(5)\n",
    "for i, text in enumerate(sample):\n",
    "    print(f\"Original {i+1}: {text[:100]}...\")\n",
    "    print(f\"Verarbeitet {i+1}: {preprocess_text(text)[:100]}...\")\n",
    "    print(\"-\" * 80)"
   ]
  },
  {
   "cell_type": "code",
   "execution_count": 62,
   "id": "3e8e6b38-affa-4b2d-a78c-158ee9c51297",
   "metadata": {},
   "outputs": [
    {
     "name": "stdout",
     "output_type": "stream",
     "text": [
      "Die Vorverarbeitung auf alle Texte ist abgeschlossen!\n"
     ]
    }
   ],
   "source": [
    "# Vorverarbeitung auf alle Texte anwenden:\n",
    "processed_complaints = complaints.apply(preprocess_text)\n",
    "print(\"Die Vorverarbeitung auf alle Texte ist abgeschlossen!\")"
   ]
  },
  {
   "cell_type": "code",
   "execution_count": 34,
   "id": "517e5496-3c2e-4ec2-95f6-67f07c6a6ebd",
   "metadata": {},
   "outputs": [
    {
     "name": "stdout",
     "output_type": "stream",
     "text": [
      "Der vorverarbeitete Datensatz wurde in einer CSV-Datei gespeichert!\n"
     ]
    }
   ],
   "source": [
    "# Speicherung:\n",
    "processed_df = pd.DataFrame({'processed_text': processed_complaints})\n",
    "processed_df.to_csv('C:/Users/test/Desktop/Projekt_Data Analysis/Kundenbeschwerden_Vorverarbeitet.csv', index=False)\n",
    "print(\"Der vorverarbeitete Datensatz wurde in einer CSV-Datei gespeichert!\")"
   ]
  }
 ],
 "metadata": {
  "kernelspec": {
   "display_name": "Python [conda env:base] *",
   "language": "python",
   "name": "conda-base-py"
  },
  "language_info": {
   "codemirror_mode": {
    "name": "ipython",
    "version": 3
   },
   "file_extension": ".py",
   "mimetype": "text/x-python",
   "name": "python",
   "nbconvert_exporter": "python",
   "pygments_lexer": "ipython3",
   "version": "3.12.7"
  }
 },
 "nbformat": 4,
 "nbformat_minor": 5
}
